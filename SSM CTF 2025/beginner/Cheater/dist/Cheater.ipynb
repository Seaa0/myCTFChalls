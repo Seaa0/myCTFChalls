{
 "cells": [
  {
   "cell_type": "markdown",
   "id": "7fe5ee7e-55e0-4ffc-bfbc-d6eaee2817aa",
   "metadata": {},
   "source": [
    "# Cheater (Beginner)\n",
    "You will notice that you have received a python file. This code was run by the challenge creator with the actual flag in a file called `secret.py`.  \n",
    "Since you don't have `secret.py`, you are tasked to decrypt the file by deriving the keys using the vulnerabilities in the implementation of the cryptosystem.    \n",
    "\n",
    "First, let us take a look at the python file."
   ]
  },
  {
   "cell_type": "code",
   "execution_count": null,
   "id": "51549e5b-0d66-4522-b048-4ab5e41706a9",
   "metadata": {},
   "outputs": [],
   "source": [
    "from secret import flag\n",
    "from Crypto.Util.number import getPrime, bytes_to_long, long_to_bytes\n",
    "\n",
    "m = bytes_to_long(flag)\n",
    "e = 65537\n",
    "\n",
    "n1 = 0\n",
    "p1 = getPrime(256)\n",
    "for i in range(1, p1*2, 2):\n",
    "    n1 += i\n",
    "\n",
    "n2 = 0\n",
    "p2 = getPrime(256)\n",
    "for i in range(1, p2*2, 2):\n",
    "    n2 += i\n",
    "\n",
    "n = n1 * n2\n",
    "print(\"n =\", str(n))\n",
    "\n",
    "c = pow(m, e, n)\n",
    "\n",
    "print(\"c =\", str(long_to_bytes(p1 * c)))\n",
    "\n",
    "\n",
    "# n = 46884503505861237425470108781013151709608385156407042535162658655219198293531603954762072725496274761369924515589793971505529848123272005525045726561087298432276907310910641955233378153675627867971707733693334181779557896862253210884460657132373758389569573567937002331226015986481271527653964521274862740761\n",
    "# c = b'\\x05dT!$O\\xa9\\xa7r\\xce}l!\\xf5:L\\xcd\\x9eq\\xc9\\x12\\x98\\x05\\xc6+o\\xd5\\x06\\x8b\\xebp\\x82\\x1fu\\xf4\\x85O\\xf5\\xaa\\x1c\\xed\\xc7\\x86\\xe8\\x9dz\\xa2=\\x90\\xe0f\\xd7\\xbb\\x81\\x1e\\xf9\\xab\\xe71)\\x1b\\x994\\xdd\\xa7F\\xc16\\xff\\x87\\xbb/;\\xea.U\\xd7\\x9be\\xb7^\\xef\\x9f\\xb1\\x8e\\xd6:\\xb1\\xafP\\xeb5\\xf4\\xe5\\x94\\xd0\\x8a\\xd9[O\\x1d=r\\xf9\\xaf\\xdf-\\xc3k\\xb9\\x95\\x90\\nZ:\\x07\"\\xa5\\' \\x80\\xc0\\'R\\x9a\\xd5`7/\\x89\\xbf\\x7f$u\\x08\\xecZw\\xa6*\\xb2\\xe4Frr\\xbd\\xf5G\\xf9\\xcf\\x90\\x9a\\xd6\\xb5S\\xdc]\\xebB\\xf7'"
   ]
  },
  {
   "cell_type": "markdown",
   "id": "293e0cca-47b3-4b27-81c1-dc6faecf4554",
   "metadata": {},
   "source": [
    "You will notice the two lines `# n = 468...` and `# c = b'\\x05...`. These are the two outputs that were produced when the challenge creator ran the program."
   ]
  },
  {
   "cell_type": "markdown",
   "id": "d6ed70ef-1bb8-4f76-9002-b82081876953",
   "metadata": {},
   "source": [
    "Let us first understand this cryptosystem. This is an implementation of the [RSA](https://en.wikipedia.org/wiki/RSA_cryptosystem) cryptosystem.  \n",
    "This cryptosystem is an asymmetric cryptosystem, meaning it uses the public and private keys respectively (different keys) for encryption and decryption.  \n",
    "In this cryptosystem, encryption is performed by the following operation:\n",
    "$$c := m^e \\mod n$$\n",
    "where  \n",
    "- $c$ is the ciphertext\n",
    "- $m$ is the plaintext being encrypted, converted into an integer using `bytes_to_long`\n",
    "- $(e,n)$ are the public keys\n",
    "\n",
    "As for the private key, it is often denoted by $d$, where\n",
    "$$d = e^{-1} \\mod \\phi(n)$$\n",
    "$\\phi$ denotes Euler's totient function, which, for a semiprime $n$ i.e. $n$ is a factor of two primes, which is the standard type of n value used in RSA, is equals to $(p-1)(q-1)$.  \n",
    "You can decrypt with the following operation:\n",
    "$$m := c^d \\mod n$$\n",
    "With that being said, most CTF challenges on RSA task you to obtain the value of p and q through vulnerabilities."
   ]
  },
  {
   "cell_type": "markdown",
   "id": "48ff1a56-1f2e-4f2c-bb6a-bc10f8a6dde6",
   "metadata": {},
   "source": [
    "Let us take a look at the code now."
   ]
  },
  {
   "cell_type": "code",
   "execution_count": null,
   "id": "b090538d-dd0e-45e8-9a77-325cacae6f3d",
   "metadata": {},
   "outputs": [],
   "source": [
    "m = bytes_to_long(flag)\n",
    "e = 65537"
   ]
  },
  {
   "cell_type": "markdown",
   "id": "0b650439-06e9-4da1-8035-a78660694a4c",
   "metadata": {},
   "source": [
    "These 2 lines are part of the standard implementations of the RSA algorithm. $e$ is commonly set to $65537$ to allow the modular exponentiation to take less time to run, the details of which I will not be elaborating on here."
   ]
  },
  {
   "cell_type": "code",
   "execution_count": null,
   "id": "e2ef858e-1015-4301-aebc-6125204ef691",
   "metadata": {},
   "outputs": [],
   "source": [
    "n1 = 0\n",
    "p1 = getPrime(256)\n",
    "for i in range(1, p1*2, 2):\n",
    "    n1 += i\n",
    "\n",
    "n2 = 0\n",
    "p2 = getPrime(256)\n",
    "for i in range(1, p2*2, 2):\n",
    "    n2 += i\n",
    "\n",
    "n = n1 * n2\n",
    "print(\"n =\", str(n))"
   ]
  },
  {
   "cell_type": "markdown",
   "id": "066450e8-1caa-4dd2-bb7d-9a9a779f5aa1",
   "metadata": {},
   "source": [
    "From this block of code, we can notice that `n1` and `n2` are the products of the first `p1` and `p2` odd numbers respectively."
   ]
  },
  {
   "cell_type": "code",
   "execution_count": null,
   "id": "8a8eb45c-9c4a-47d2-812b-981d0593d952",
   "metadata": {},
   "outputs": [],
   "source": [
    "c = pow(m, e, n)\n",
    "\n",
    "print(\"c =\", str(long_to_bytes(p1 * c)))"
   ]
  },
  {
   "cell_type": "markdown",
   "id": "bb5b162f-3336-4c35-9ca1-11f45ea41d39",
   "metadata": {},
   "source": [
    "Lastly, this is just standard RSA decryption, as mentioned above, with the additional step of converting c from an integer to bytes, which can be easily reversed with `bytes_to_long`."
   ]
  },
  {
   "cell_type": "markdown",
   "id": "effa2c5a-8d75-4883-9d13-bfdb31267d58",
   "metadata": {},
   "source": [
    "Time to start on the actual challenge solving.  \n",
    "Firstly, we can notice that the value of $c$ printed is a multiple of p1, as indicated by `print(\"c =\", str(long_to_bytes(p1 * c)))`.  \n",
    "This means we can leak p1 using `gcd`, or greatest common divisor, as long as we have another multiple of p1. Normally, with textbook RSA, this would be trivial, because $n=p1*p2$, both of which are primes.  \n",
    "Except that we do actually have a multiple of $p1$! A simple google search will tell you that the sum of the first $n$ odd numbers is $n^2$. This means that $n = p1^2*p2^2$.    \n",
    "\n",
    "Now, your turn! You have all the necessary information to recover $p1$, so go ahead and do so!  \n",
    "Note: if you would like to install the `Crypto.Util.number` library, you can run `!pip3 install pycryptodome` in a new cell."
   ]
  },
  {
   "cell_type": "code",
   "execution_count": null,
   "id": "941b78e0-0c28-4149-a9fa-a6f1bb56710c",
   "metadata": {},
   "outputs": [],
   "source": [
    "# feel free to code here"
   ]
  },
  {
   "cell_type": "markdown",
   "id": "4854af5f-6fac-403a-bcb0-bcc68017415a",
   "metadata": {},
   "source": [
    "Now that we have $p1$, you can recover $p2$, given that $n=p1^2*p2^2$."
   ]
  },
  {
   "cell_type": "code",
   "execution_count": null,
   "id": "a3d4f50c-741b-4f81-9a75-8ba991a8f93a",
   "metadata": {},
   "outputs": [],
   "source": [
    "# feel free to code here"
   ]
  },
  {
   "cell_type": "markdown",
   "id": "ae66221c-c164-42f8-a75b-829b2da612b3",
   "metadata": {},
   "source": [
    "Now that we have $p1$ and $p2$, we are free to decrypt, all we need to do is derive $d$.  \n",
    "Earlier I mentioned that $\\phi(n)=(p-1)(q-1)$ for a semiprime $n$. Except that in our case, $n$ is not semiprime.  However, retrieving $\\phi(n)$ is still doable. Think of it this way. If $p*q=n$, $\\phi(n)=\\phi(p)*\\phi(q)$. This of course does mean that $\\phi(p) = p-1$ if p is a prime.  \n",
    "The last bit of information that you need is that $\\phi(p^k) = (p-1)(p^{k-1})$.  \n",
    "Recall that $d = e^{-1} \\mod \\phi(n)$. You now have enough information to derive $d$."
   ]
  },
  {
   "cell_type": "code",
   "execution_count": null,
   "id": "8b9b0a30-bcc3-4e0b-8b84-9161f5d1102e",
   "metadata": {},
   "outputs": [],
   "source": [
    "# feel free to code here"
   ]
  },
  {
   "cell_type": "markdown",
   "id": "b26f3cce-6f4b-4d56-8e6d-0566e66ca65c",
   "metadata": {},
   "source": [
    "For the last part: recall that decrypt is performed by $m := c^d \\mod n$. Remember to convert m to plaintext by using `long_to_bytes` and you have your flag!"
   ]
  },
  {
   "cell_type": "code",
   "execution_count": null,
   "id": "6830bfcb-b93c-4c85-82d8-aa680beed4a4",
   "metadata": {},
   "outputs": [],
   "source": [
    "# feel free to code here"
   ]
  }
 ],
 "metadata": {
  "kernelspec": {
   "display_name": "Python 3 (ipykernel)",
   "language": "python",
   "name": "python3"
  },
  "language_info": {
   "codemirror_mode": {
    "name": "ipython",
    "version": 3
   },
   "file_extension": ".py",
   "mimetype": "text/x-python",
   "name": "python",
   "nbconvert_exporter": "python",
   "pygments_lexer": "ipython3",
   "version": "3.8.18"
  }
 },
 "nbformat": 4,
 "nbformat_minor": 5
}
